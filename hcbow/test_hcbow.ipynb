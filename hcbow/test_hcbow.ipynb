{
 "cells": [
  {
   "cell_type": "code",
   "execution_count": 3,
   "id": "2e29a2dc",
   "metadata": {},
   "outputs": [],
   "source": [
    "# params 불러오는 함수 정의\n",
    "import sys\n",
    "sys.path.append('..')\n",
    "from common.util import most_similar, analogy\n",
    "import pickle\n",
    "\n",
    "def load_pickle(file_name):\n",
    "    with open(file_name, 'rb') as file:\n",
    "        return pickle.load(file)\n",
    "    \n",
    "def load_params(vec_pkl):\n",
    "    word_vecs = load_pickle(vec_pkl)\n",
    "    word_to_id = load_pickle('word_to_id.pkl')\n",
    "    id_to_word = load_pickle('id_to_word.pkl')\n",
    "    \n",
    "    return word_vecs, word_to_id, id_to_word"
   ]
  },
  {
   "cell_type": "code",
   "execution_count": 4,
   "id": "4a87a58a",
   "metadata": {},
   "outputs": [
    {
     "name": "stdout",
     "output_type": "stream",
     "text": [
      "epoch = 3\n",
      "\n",
      "[query] 미국\n",
      " 영국: 0.70458984375\n",
      " 일본: 0.6591796875\n",
      " 호주: 0.5888671875\n",
      " 캐나다: 0.57080078125\n",
      " 프랑스: 0.56298828125\n",
      "\n",
      "[query] 표지판\n",
      " 파이프: 0.54150390625\n",
      " 전광판: 0.53564453125\n",
      " 안내판: 0.5263671875\n",
      " 쓰레기 소각: 0.52001953125\n",
      " 지하실: 0.51904296875\n",
      "\n",
      "[query] 환경\n",
      " 생태계: 0.583984375\n",
      " 대내외: 0.5390625\n",
      " 사회: 0.53515625\n",
      " 생활환경: 0.53173828125\n",
      " 기후: 0.52734375\n",
      "\n",
      "[query] 축구\n",
      " 야구: 0.75830078125\n",
      " 농구: 0.73193359375\n",
      " 탁구: 0.7294921875\n",
      " 배구: 0.7197265625\n",
      " 양궁: 0.67138671875\n",
      "\n",
      "[analogy] 중국:베이징 = 한국:?\n",
      " 플리: 6.3125\n",
      " 서울: 5.8671875\n",
      " 경남: 5.65625\n",
      " 국립: 5.375\n",
      " 광주: 5.32421875\n"
     ]
    }
   ],
   "source": [
    "# epoch = 3\n",
    "print('epoch = 3')\n",
    "\n",
    "# param 불러오기\n",
    "word_vecs, word_to_id, id_to_word = load_params('hcbow_vecs_128_1_(4_2_3_0.707)_3.pkl')\n",
    "\n",
    "# 가장 비슷한(most similar) 단어 뽑기\n",
    "querys = ['미국', '표지판', '환경', '축구']\n",
    "for query in querys:\n",
    "    most_similar(query, word_to_id, id_to_word, word_vecs, top=5)\n",
    "    \n",
    "# 유추(analogy) 작업\n",
    "analogy('중국', '베이징', '한국',  word_to_id, id_to_word, word_vecs)"
   ]
  },
  {
   "cell_type": "code",
   "execution_count": 5,
   "id": "ed341863",
   "metadata": {},
   "outputs": [
    {
     "name": "stdout",
     "output_type": "stream",
     "text": [
      "epoch = 9\n",
      "\n",
      "[query] 미국\n",
      " 영국: 0.7197265625\n",
      " 일본: 0.6337890625\n",
      " 캐나다: 0.62158203125\n",
      " 호주: 0.56689453125\n",
      " 프랑스: 0.54833984375\n",
      "\n",
      "[query] 표지판\n",
      " 방음벽: 0.55810546875\n",
      " 안내판: 0.54296875\n",
      " 손잡이: 0.5302734375\n",
      " 쓰레기 소각: 0.515625\n",
      " 연두색: 0.51513671875\n",
      "\n",
      "[query] 환경\n",
      " 건강: 0.51171875\n",
      " 사회: 0.5107421875\n",
      " 여건: 0.50390625\n",
      " 생활: 0.491943359375\n",
      " 생태계: 0.489990234375\n",
      "\n",
      "[query] 축구\n",
      " 탁구: 0.7021484375\n",
      " 야구: 0.69384765625\n",
      " 배드민턴: 0.64697265625\n",
      " 쇼트트랙: 0.61181640625\n",
      " 발야구: 0.5966796875\n",
      "\n",
      "[analogy] 중국:베이징 = 한국:?\n",
      " 서울: 9.1015625\n",
      " 국립: 8.828125\n",
      " 광주: 8.75\n",
      " 런던: 8.7109375\n",
      " 대전: 8.0546875\n"
     ]
    }
   ],
   "source": [
    "# epoch = 9\n",
    "print('epoch = 9')\n",
    "\n",
    "# param 불러오기\n",
    "word_vecs, word_to_id, id_to_word = load_params('hcbow_vecs_128_1_(4_2_3_0.707)_9.pkl')\n",
    "\n",
    "# 가장 비슷한(most similar) 단어 뽑기\n",
    "querys = ['미국', '표지판', '환경', '축구']\n",
    "for query in querys:\n",
    "    most_similar(query, word_to_id, id_to_word, word_vecs, top=5)\n",
    "    \n",
    "# 유추(analogy) 작업\n",
    "analogy('중국', '베이징', '한국',  word_to_id, id_to_word, word_vecs)"
   ]
  },
  {
   "cell_type": "code",
   "execution_count": null,
   "id": "23138943",
   "metadata": {},
   "outputs": [],
   "source": []
  }
 ],
 "metadata": {
  "kernelspec": {
   "display_name": "Python 3 (ipykernel)",
   "language": "python",
   "name": "python3"
  },
  "language_info": {
   "codemirror_mode": {
    "name": "ipython",
    "version": 3
   },
   "file_extension": ".py",
   "mimetype": "text/x-python",
   "name": "python",
   "nbconvert_exporter": "python",
   "pygments_lexer": "ipython3",
   "version": "3.11.5"
  }
 },
 "nbformat": 4,
 "nbformat_minor": 5
}
